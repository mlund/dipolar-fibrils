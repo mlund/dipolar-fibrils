{
 "cells": [
  {
   "cell_type": "markdown",
   "id": "19b50b8b",
   "metadata": {},
   "source": [
    "# Evaporation of water from $\\beta$-lactalbumin fibril\n",
    "\n",
    "In a separate Monte Carlo (MC) simulation we determined the bare molecular dipole moment of beta-lactalbumin to be **384 D** at pH 3.7. This is to be compared to **548 D** as presented in the work of [Rogers et al.](https://doi.org/10.1002/bip.20483) using a different theoretical model that neglects counter ions.\n",
    "Both of these predictions reflect the _bare_ protein, i.e. the dipole moment without counter ions.\n",
    "\n",
    "We here aim to determine the effective dipole moment per monomer in a fibril, taking into account that counter-ions will be present. This may be particularly important in the solid phase, where electrostatics may strongly couple the counter-ions to the protein molecules.\n",
    "\n",
    "## Monte Carlo setup\n",
    "\n",
    "Five proteins with counter-ions embedded in a cylindrical, periodic cell or radius 25 Å. The dielectric constant is set to 20 to mimic a partially water solvated fibril in water. During simulation, the proteins can translate along the $z$-axis and rotate around their mass-centers in any direction.\n",
    "MC displacements of the cylinder length-axis is performed to relax the spacing between the proteins under zero tension.\n",
    "\n",
    "![alt text](fibril.png \"Snapshot from MC simulation of a periodic cylinder witb 5 proteins\")"
   ]
  },
  {
   "cell_type": "code",
   "execution_count": 18,
   "id": "3f940410",
   "metadata": {},
   "outputs": [],
   "source": [
    "%matplotlib inline\n",
    "\n",
    "import matplotlib\n",
    "import numpy as np\n",
    "import matplotlib.pyplot as plt\n",
    "import json\n",
    "\n",
    "def getBareDipoleMoment(output_json_file):\n",
    "    ''' extract molecular dipole moment from out.json file (in Debye) '''\n",
    "    to_debye = 1.0 / 0.2081943\n",
    "    with open(output_json_file) as f:\n",
    "        for analysis in json.load(f)['analysis']:\n",
    "            for key, val in analysis.items():\n",
    "                if key=='multipole':\n",
    "                    multipole = val['molecules']['protein']\n",
    "                    return multipole['μ'] * to_debye\n",
    "    assert(False)\n",
    "    \n",
    "def getSystemDipoleMoment(filename):\n",
    "    ''' dipole moment of entire system incl. counter-ions (Debye) '''\n",
    "    to_debye = 1.0 / 0.2081943\n",
    "    return np.loadtxt(filename, usecols=[2])[-1] * to_debye"
   ]
  },
  {
   "cell_type": "markdown",
   "id": "48b57990",
   "metadata": {},
   "source": [
    "## Bare dipole moment vs. effective dipole moment?\n",
    "\n",
    "The results below show that the _effective dipole moment_ is significantly smaller than the bare protein dipole moment due to the presence of counter-ions. "
   ]
  },
  {
   "cell_type": "code",
   "execution_count": 123,
   "id": "97885b62",
   "metadata": {},
   "outputs": [
    {
     "name": "stdout",
     "output_type": "stream",
     "text": [
      "Dipole moment of bare protein = 385 D\n",
      "System dipole moment incl. counter ions = 994 D\n",
      "Dipole moment per protein incl. counter ions = 199 D\n",
      "Reduction due to counter-ions = 1.9\n"
     ]
    }
   ],
   "source": [
    "number_of_proteins = 5\n",
    "mu_single_protein = getBareDipoleMoment('out.json')\n",
    "print('Dipole moment of bare protein = {:.0f} D'.format(mu_single_protein))\n",
    "\n",
    "mu_system = getSystemDipoleMoment('system_dipole_moment.dat.gz')\n",
    "print('System dipole moment incl. counter ions = {:.0f} D'.format(mu_system))\n",
    "\n",
    "mu_single_protein_with_counter_ions = mu_system / number_of_proteins\n",
    "print('Dipole moment per protein incl. counter ions = {:.0f} D'.format(mu_single_protein_with_counter_ions))\n",
    "\n",
    "print('Reduction due to counter-ions = {:.1f}'.format(\n",
    "    mu_single_protein / mu_single_protein_with_counter_ions))"
   ]
  },
  {
   "cell_type": "markdown",
   "id": "d1ce2d88",
   "metadata": {},
   "source": [
    "## Alignment of system dipole moment along cell direction\n",
    "\n",
    "We here investigate how the system dipole momement is aligned with respect to the cylinder length axis ($z$). This is done by averaging each squared compoment of the dipole moment vector, $\\langle \\mu_x^2 \\rangle$.\n",
    "If zero, no random alignment is expected, whereas unity means full alignment.\n",
    "\n",
    "We see that the $x$ and $y$ axis are roughly equal which is a marker for convergence and roughly around 0.1. Not unexpectedly, the alignment along $z$ is much stronger, around 0.8."
   ]
  },
  {
   "cell_type": "code",
   "execution_count": 115,
   "id": "d6266763",
   "metadata": {},
   "outputs": [
    {
     "data": {
      "text/plain": [
       "array([0.11588335, 0.11575404, 0.76836261])"
      ]
     },
     "execution_count": 115,
     "metadata": {},
     "output_type": "execute_result"
    }
   ],
   "source": [
    "def systemDipoleMomentVector():\n",
    "    ''' unit dipole moment vector as a function of frames '''\n",
    "    to_debye = 1.0 / 0.2081943\n",
    "    mux = np.loadtxt('mu_x.dat.gz', usecols=[1]) * to_debye\n",
    "    muy = np.loadtxt('mu_y.dat.gz', usecols=[1]) * to_debye\n",
    "    muz = np.loadtxt('mu_z.dat.gz', usecols=[1]) * to_debye\n",
    "    mu = np.vstack((mux, muy, muz))\n",
    "    mu_len = np.sqrt((mu*mu).sum(axis=0))\n",
    "    return mu / mu_len\n",
    "\n",
    "def systemDipoleAlignment():\n",
    "    mu_hat = systemDipoleMomentVector()\n",
    "    return (mu_hat*mu_hat).mean(axis=1)\n",
    "\n",
    "systemDipoleAlignment()"
   ]
  },
  {
   "cell_type": "markdown",
   "id": "70ce51eb",
   "metadata": {},
   "source": [
    "## Tension along the cylinder length axis ($z$)\n",
    "\n",
    "During simulation, the cylinder $z$-axis fluctuates and we sample the probability distribution of lengths. This is related to the free energy of compressing or elongating the cylinder and is governed by the intermolecular interactions within the (small) fibril. Note that the cylinder has periodic ends and thus proteins and counter ions interact across the edges."
   ]
  },
  {
   "cell_type": "code",
   "execution_count": 128,
   "id": "530939de",
   "metadata": {},
   "outputs": [
    {
     "data": {
      "image/png": "[encoded data removed]",
      "text/plain": [
       "<Figure size 432x288 with 1 Axes>"
      ]
     },
     "metadata": {
      "needs_background": "light"
     },
     "output_type": "display_data"
    }
   ],
   "source": [
    "steps, zlen = np.loadtxt('zlen.dat.gz', usecols=[0,1], unpack=True)\n",
    "plt.xlabel('ånstrom per protein')\n",
    "plt.ylabel('observations')\n",
    "hist = plt.hist(zlen / number_of_proteins, bins=50)"
   ]
  },
  {
   "cell_type": "markdown",
   "id": "63c9c7ae",
   "metadata": {},
   "source": [
    "## Todo\n",
    "\n",
    "- Increase parameter space: dielectric constant; cylinder radius; number of proteins\n",
    "- Parallel tempering in $\\varepsilon_r$. This will require MPI exchange of cylinder properties as we currently exchange the volume, only. Several values of the dielectric constant would mimic evaporation.\n",
    "- Implement \"real\" structure of $\\beta$-lactalbumin fibrils. Currently we have a simplistic description of the interactions, mainly due to electrostatics."
   ]
  },
  {
   "cell_type": "code",
   "execution_count": null,
   "id": "6fdec4e5",
   "metadata": {},
   "outputs": [],
   "source": []
  }
 ],
 "metadata": {
  "kernelspec": {
   "display_name": "Python 3",
   "language": "python",
   "name": "python3"
  },
  "language_info": {
   "codemirror_mode": {
    "name": "ipython",
    "version": 3
   },
   "file_extension": ".py",
   "mimetype": "text/x-python",
   "name": "python",
   "nbconvert_exporter": "python",
   "pygments_lexer": "ipython3",
   "version": "3.8.5"
  }
 },
 "nbformat": 4,
 "nbformat_minor": 5
}
