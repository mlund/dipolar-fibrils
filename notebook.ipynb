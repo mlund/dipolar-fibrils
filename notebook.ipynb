{
 "cells": [
  {
   "cell_type": "markdown",
   "metadata": {},
   "source": [
    "# Notebook for Charged, Dipolar Fibrils\n",
    "\n",
    "_M. Lund, May 2021_\n",
    "\n",
    "![Alt text](fibril.png \"linear fibril build from dipolar spheres representing proteins\")\n",
    "\n",
    "This notebook is a working document for building films made up of linear protein fibrils. Our aim is to define several ways of constructing fibrils and calculate the electric potential or field at arbitrary points."
   ]
  },
  {
   "cell_type": "code",
   "execution_count": 1,
   "metadata": {},
   "outputs": [],
   "source": [
    "import numpy as np\n",
    "from copy import deepcopy"
   ]
  },
  {
   "cell_type": "markdown",
   "metadata": {},
   "source": [
    "### Protein properties\n",
    "\n",
    "Here we set the protein properties used to generate the fibrils. At the moment, a protein is defined by three parameters:\n",
    "\n",
    "- Radius\n",
    "- Net-charge\n",
    "- Molecular dipole moment"
   ]
  },
  {
   "cell_type": "code",
   "execution_count": 2,
   "metadata": {},
   "outputs": [],
   "source": [
    "radius = 15          # protein radius, Å\n",
    "charge = 2           # protein net-charge, units of e\n",
    "dipole_scalar = 150  # protein dipole moment, Debye\n",
    "length = 10000       # fibril length, Å\n",
    "fictitious_charge = 10.0 # used to generate explicit charges in dipoles\n",
    "\n",
    "proteins_per_fibril = round(length / (2*radius))\n",
    "global_position_storage = [] # storaged for generated point charges and their positions"
   ]
  },
  {
   "cell_type": "markdown",
   "metadata": {},
   "source": [
    "### Helper functions\n",
    "\n",
    "The following functions are used to generate fibrils which as currently straight lines of proteins placed in contact with\n",
    "each other. The dipole moment is modelled _explicitly_, meaning that two extra charges are placed inside a single bead.\n",
    "This makes it easier to calculate the electric potential, as we can operate with point charges only, and thus avoid the extra\n",
    "complication of dealing with point dipoles.\n",
    "\n",
    "The orientation of the protein dipole moment can be specified, but is currently pointing in the direction of the fibril.\n",
    "The fibril is save to a PQR files which is simular to PDB, but carries information about the radius and charge as well.\n",
    "PQR files can be viewed with for example VMD."
   ]
  },
  {
   "cell_type": "code",
   "execution_count": 3,
   "metadata": {},
   "outputs": [],
   "source": [
    "def makeAtomEntry(counter, pos, charge, radius):\n",
    "    ''' generates a single ATOM entry for a PQR file '''\n",
    "    atom_cnt = counter\n",
    "    residue_cnt = counter\n",
    "    atomname = \"PRT\"\n",
    "    resname = \"PTR\"\n",
    "    chain = \"A\"\n",
    "    pqrformat = \"{:6s}{:5d} {:^4s}{:1s}{:3s} {:1s}{:4d}{:1s}   {:8.3f}{:8.3f}{:8.3f}{:6.2f}{:6.2f}\\n\"\n",
    "    global_position_storage.append(deepcopy([pos, charge, radius]))\n",
    "    return pqrformat.format(\"ATOM\", atom_cnt, atomname, \"A\", resname, chain, residue_cnt, \"0\",\n",
    "                            pos[0], pos[1], pos[2], charge, radius)\n",
    "\n",
    "def makeDipoleEntry(counter, position, dipole_direction):\n",
    "    '''\n",
    "    generates a particle consisting of three beads: neutral; positive, and negative. The first has\n",
    "    a radius, while the other two represent a dipole and are placed inside the first particle. This\n",
    "    allows for later calculation of the electric field. The two latter particles are displaced symmetrically\n",
    "    around the first pointing in the `dipole_direction`.\n",
    "    '''\n",
    "    s = makeAtomEntry(counter, position, charge=charge, radius=radius)\n",
    "\n",
    "    dipole_direction = dipole_direction / np.linalg.norm(dipole_direction)\n",
    "    debye_to_electron_angstrom = 0.2081943\n",
    "    displacement = debye_to_electron_angstrom * dipole_scalar * dipole_direction / (2.0 * fictitious_charge)\n",
    "    assert np.linalg.norm(displacement) < radius, \"increase `fictitious_charge`\"\n",
    "    s += makeAtomEntry(counter+1, position + displacement, charge=fictitious_charge, radius=1.0)\n",
    "    s += makeAtomEntry(counter+2, position - displacement, charge=-fictitious_charge, radius=1.0)\n",
    "\n",
    "    # check to see if the explicit dipole matches the input value\n",
    "    mu = (position + displacement) * fictitious_charge + (position - displacement)*(-fictitious_charge)\n",
    "    np.testing.assert_almost_equal(np.linalg.norm(mu), dipole_scalar * debye_to_electron_angstrom)\n",
    "    return s\n",
    "\n",
    "def makeMonopoleFibril(number_of_proteins, initial_position, direction):\n",
    "    '''\n",
    "    Make a single fibril where proteins lie up against each other in a line, growing in the `direction`\n",
    "    \n",
    "    '''\n",
    "    displacement = 2.0 * radius * direction / np.linalg.norm(direction)\n",
    "    s = ''\n",
    "    position = initial_position[:]\n",
    "    for counter in range(number_of_proteins):\n",
    "        s += makeAtomEntry(counter+1, position, charge, radius)\n",
    "        position += displacement\n",
    "    return s\n",
    "\n",
    "def makeDipoleFibril(number_of_proteins, initial_position, direction):\n",
    "    '''\n",
    "    Make a single fibril where proteins lie up against each other in a line, growing in the `direction`    \n",
    "    '''\n",
    "    displacement = 2.0 * radius * direction / np.linalg.norm(direction)\n",
    "    s = ''\n",
    "    position = deepcopy(initial_position)\n",
    "    for counter in range(number_of_proteins):\n",
    "        s += makeDipoleEntry(counter+1, position, direction)\n",
    "        position += displacement\n",
    "    return s"
   ]
  },
  {
   "cell_type": "markdown",
   "metadata": {},
   "source": [
    "### Example\n",
    "\n",
    "This will generate a simple fibril where the proteins are lined up next to each other, and with their dipole moments\n",
    "pointing in the direction of the fibril. A snapshot of this is shown at the beginning of this notebook."
   ]
  },
  {
   "cell_type": "code",
   "execution_count": 4,
   "metadata": {},
   "outputs": [
    {
     "name": "stdout",
     "output_type": "stream",
     "text": [
      "proteins per fibril =  333\n"
     ]
    }
   ],
   "source": [
    "global_position_storage = []         # make sure this is empty before starting!\n",
    "position = np.array([0.0, 0.0, 0.0]) # starting point for the fibril\n",
    "fibril_direction = np.array([1.0, 0.0, 0.0]) # growing direction\n",
    "\n",
    "print(\"proteins per fibril = \", proteins_per_fibril)\n",
    "filename = 'fibrils.pqr'\n",
    "with open(filename, 'w') as file:\n",
    "    s = makeDipoleFibril(number_of_proteins=proteins_per_fibril, initial_position=position, direction=fibril_direction)\n",
    "    file.write(s)"
   ]
  },
  {
   "cell_type": "markdown",
   "metadata": {},
   "source": [
    "## Calculation of Electric Potential and Field\n",
    "\n",
    "In the operations above, we store all generated point charges in `global_position_storage` and we now use this to calculate\n",
    "the electric potential at an arbitrary point.\n",
    "Alternatively, we could later use [APBS](https://github.com/Electrostatics/apbs) which is a Poisson-Boltzmann solver commonly used in protein systems."
   ]
  },
  {
   "cell_type": "code",
   "execution_count": 5,
   "metadata": {},
   "outputs": [],
   "source": [
    "def calcPotential(target_position):\n",
    "    ''' calculates the electric potential at a target position '''\n",
    "    print('Number of charge points = ', len(global_position_storage))\n",
    "    bjerrum_length = 7 * 80 # ~ vacuum\n",
    "    potential = 0.0\n",
    "    for pos, point_charge, radius in global_position_storage: # maybe slow; convert to numpy ops\n",
    "        distance = np.linalg.norm(target_position - pos)\n",
    "        potential +=  point_charge / distance\n",
    "    return bjerrum_length * potential # kT/e"
   ]
  },
  {
   "cell_type": "code",
   "execution_count": 6,
   "metadata": {},
   "outputs": [
    {
     "name": "stdout",
     "output_type": "stream",
     "text": [
      "Number of charge points =  999\n",
      "potential at target = 319.1623268342322 kT/e\n"
     ]
    }
   ],
   "source": [
    "target_position = np.array([0.0, -10, 0.0]) # calculate potential here\n",
    "print('potential at target = {} kT/e'.format(calcPotential(target_position)))"
   ]
  },
  {
   "cell_type": "markdown",
   "metadata": {},
   "source": [
    "## TODO List\n",
    "\n",
    "- [x] Generation of single fibrils of arbitrary length and direction\n",
    "- [x] Represent protein as spherical particle that can carry a charge and/or dipole moment\n",
    "- [x] Routine for calculation of electric potential at arbitrary point\n",
    "- [ ] Routine for calculation of electric field at arbitrary point\n",
    "- [ ] Generate film\n",
    "- [ ] Generate random structure"
   ]
  },
  {
   "cell_type": "code",
   "execution_count": null,
   "metadata": {},
   "outputs": [],
   "source": []
  }
 ],
 "metadata": {
  "kernelspec": {
   "display_name": "Python 3",
   "language": "python",
   "name": "python3"
  },
  "language_info": {
   "codemirror_mode": {
    "name": "ipython",
    "version": 3
   },
   "file_extension": ".py",
   "mimetype": "text/x-python",
   "name": "python",
   "nbconvert_exporter": "python",
   "pygments_lexer": "ipython3",
   "version": "3.7.8"
  }
 },
 "nbformat": 4,
 "nbformat_minor": 4
}
